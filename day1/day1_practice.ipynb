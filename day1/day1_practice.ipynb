{
  "cells": [
    {
      "cell_type": "markdown",
      "metadata": {
        "id": "gSpnWBP5ELSI"
      },
      "source": [
        "# 実践演習 Day 1：streamlitとFastAPIのデモ\n",
        "このノートブックでは以下の内容を学習します。\n",
        "\n",
        "- 必要なライブラリのインストールと環境設定\n",
        "- Hugging Faceからモデルを用いたStreamlitのデモアプリ\n",
        "- FastAPIとngrokを使用したAPIの公開方法\n",
        "\n",
        "演習を始める前に、HuggingFaceとngrokのアカウントを作成し、\n",
        "それぞれのAPIトークンを取得する必要があります。\n",
        "\n",
        "\n",
        "演習の時間では、以下の3つのディレクトリを順に説明します。\n",
        "\n",
        "1. 01_streamlit_UI\n",
        "2. 02_streamlit_app\n",
        "3. 03_FastAPI\n",
        "\n",
        "2つ目や3つ目からでも始められる様にノートブックを作成しています。\n",
        "\n",
        "復習の際にもこのノートブックを役立てていただければと思います。\n",
        "\n",
        "### 注意事項\n",
        "「02_streamlit_app」と「03_FastAPI」では、GPUを使用します。\n",
        "\n",
        "これらを実行する際は、Google Colab画面上のメニューから「編集」→ 「ノートブックの設定」\n",
        "\n",
        "「ハードウェアアクセラレーター」の項目の中から、「T4 GPU」を選択してください。\n",
        "\n",
        "このノートブックのデフォルトは「CPU」になっています。\n",
        "\n",
        "---"
      ]
    },
    {
      "cell_type": "markdown",
      "metadata": {
        "id": "OhtHkJOgELSL"
      },
      "source": [
        "# 環境変数の設定（1~3共有）\n"
      ]
    },
    {
      "cell_type": "markdown",
      "metadata": {
        "id": "Y-FjBp4MMQHM"
      },
      "source": [
        "GitHubから演習用のコードをCloneします。"
      ]
    },
    {
      "cell_type": "code",
      "execution_count": 2,
      "metadata": {
        "id": "AIXMavdDEP8U",
        "colab": {
          "base_uri": "https://localhost:8080/"
        },
        "outputId": "c4271005-7aeb-45fb-e852-b034c6fb1dd0"
      },
      "outputs": [
        {
          "output_type": "stream",
          "name": "stdout",
          "text": [
            "fatal: destination path 'lecture-ai-engineering' already exists and is not an empty directory.\n"
          ]
        }
      ],
      "source": [
        "!git clone https://github.com/yuk046/lecture-ai-engineering.git"
      ]
    },
    {
      "cell_type": "markdown",
      "metadata": {
        "id": "XC8n7yZ_vs1K"
      },
      "source": [
        "必要なAPIトークンを.envに設定します。\n",
        "\n",
        "「lecture-ai-engineering/day1」の配下に、「.env_template」ファイルが存在しています。\n",
        "\n",
        "隠しファイルのため表示されていない場合は、画面左側のある、目のアイコンの「隠しファイルの表示」ボタンを押してください。\n",
        "\n",
        "「.env_template」のファイル名を「.env」に変更します。「.env」ファイルを開くと、以下のような中身になっています。\n",
        "\n",
        "\n",
        "```\n",
        "HUGGINGFACE_TOKEN=\"hf-********\"\n",
        "NGROK_TOKEN=\"********\"\n",
        "```\n",
        "ダブルクオーテーションで囲まれた文字列をHuggingfaceのアクセストークンと、ngrokの認証トークンで書き変えてください。\n",
        "\n",
        "それぞれのアカウントが作成済みであれば、以下のURLからそれぞれのトークンを取得できます。\n",
        "\n",
        "- Huggingfaceのアクセストークン\n",
        "https://huggingface.co/docs/hub/security-tokens\n",
        "\n",
        "- ngrokの認証トークン\n",
        "https://dashboard.ngrok.com/get-started/your-authtoken\n",
        "\n",
        "書き換えたら、「.env」ファイルをローカルのPCにダウンロードしてください。\n",
        "\n",
        "「01_streamlit_UI」から「02_streamlit_app」へ進む際に、CPUからGPUの利用に切り替えるため、セッションが一度切れてしまいます。\n",
        "\n",
        "その際に、トークンを設定した「.env」ファイルは再作成することになるので、その手間を減らすために「.env」ファイルをダウンロードしておくと良いです。"
      ]
    },
    {
      "cell_type": "markdown",
      "metadata": {
        "id": "Py1BFS5RqcSS"
      },
      "source": [
        "「.env」ファイルを読み込み、環境変数として設定します。次のセルを実行し、最終的に「True」が表示されていればうまく読み込めています。"
      ]
    },
    {
      "cell_type": "code",
      "execution_count": 3,
      "metadata": {
        "id": "bvEowFfg5lrq",
        "colab": {
          "base_uri": "https://localhost:8080/"
        },
        "outputId": "93772c49-1930-47fb-cec1-0a79e0b5b822"
      },
      "outputs": [
        {
          "output_type": "stream",
          "name": "stdout",
          "text": [
            "Collecting python-dotenv\n",
            "  Downloading python_dotenv-1.1.0-py3-none-any.whl.metadata (24 kB)\n",
            "Downloading python_dotenv-1.1.0-py3-none-any.whl (20 kB)\n",
            "Installing collected packages: python-dotenv\n",
            "Successfully installed python-dotenv-1.1.0\n",
            "/content/lecture-ai-engineering/day1\n"
          ]
        },
        {
          "output_type": "execute_result",
          "data": {
            "text/plain": [
              "True"
            ]
          },
          "metadata": {},
          "execution_count": 3
        }
      ],
      "source": [
        "!pip install python-dotenv\n",
        "from dotenv import load_dotenv, find_dotenv\n",
        "\n",
        "%cd /content/lecture-ai-engineering/day1\n",
        "load_dotenv(find_dotenv())"
      ]
    },
    {
      "cell_type": "markdown",
      "metadata": {
        "id": "os0Yk6gaELSM"
      },
      "source": [
        "# 01_streamlit_UI\n",
        "\n",
        "ディレクトリ「01_streamlit_UI」に移動します。"
      ]
    },
    {
      "cell_type": "code",
      "execution_count": 4,
      "metadata": {
        "id": "S28XgOm0ELSM",
        "colab": {
          "base_uri": "https://localhost:8080/"
        },
        "outputId": "4a5802d9-93e8-4a86-c151-dfcf00e09b83"
      },
      "outputs": [
        {
          "output_type": "stream",
          "name": "stdout",
          "text": [
            "/content/lecture-ai-engineering/day1/01_streamlit_UI\n"
          ]
        }
      ],
      "source": [
        "%cd /content/lecture-ai-engineering/day1/01_streamlit_UI"
      ]
    },
    {
      "cell_type": "markdown",
      "metadata": {
        "id": "eVp-aEIkELSM"
      },
      "source": [
        "必要なライブラリをインストールします。"
      ]
    },
    {
      "cell_type": "code",
      "execution_count": 5,
      "metadata": {
        "id": "nBe41LFiELSN"
      },
      "outputs": [],
      "source": [
        "%%capture\n",
        "!pip install -r requirements.txt"
      ]
    },
    {
      "cell_type": "markdown",
      "metadata": {
        "id": "Yyw6VHaTELSN"
      },
      "source": [
        "ngrokのトークンを使用して、認証を行います。"
      ]
    },
    {
      "cell_type": "code",
      "execution_count": 6,
      "metadata": {
        "id": "aYw1q0iXELSN",
        "colab": {
          "base_uri": "https://localhost:8080/"
        },
        "outputId": "c9b67f5c-a5a7-441f-dc1d-6f5e1fed3652"
      },
      "outputs": [
        {
          "output_type": "stream",
          "name": "stdout",
          "text": [
            "Authtoken saved to configuration file: /root/.config/ngrok/ngrok.yml\n"
          ]
        }
      ],
      "source": [
        "!ngrok authtoken $$NGROK_TOKEN"
      ]
    },
    {
      "cell_type": "markdown",
      "metadata": {
        "id": "RssTcD_IELSN"
      },
      "source": [
        "アプリを起動します。"
      ]
    },
    {
      "cell_type": "code",
      "execution_count": 7,
      "metadata": {
        "id": "f-E7ucR6ELSN",
        "colab": {
          "base_uri": "https://localhost:8080/"
        },
        "outputId": "48219157-49d3-4194-9b2b-45a063e641e1"
      },
      "outputs": [
        {
          "output_type": "stream",
          "name": "stdout",
          "text": [
            "公開URL: https://dbe7-34-19-64-253.ngrok-free.app\n",
            "\n",
            "Collecting usage statistics. To deactivate, set browser.gatherUsageStats to false.\n",
            "\u001b[0m\n",
            "\u001b[0m\n",
            "\u001b[34m\u001b[1m  You can now view your Streamlit app in your browser.\u001b[0m\n",
            "\u001b[0m\n",
            "\u001b[34m  Local URL: \u001b[0m\u001b[1mhttp://localhost:8501\u001b[0m\n",
            "\u001b[34m  Network URL: \u001b[0m\u001b[1mhttp://172.28.0.12:8501\u001b[0m\n",
            "\u001b[34m  External URL: \u001b[0m\u001b[1mhttp://34.19.64.253:8501\u001b[0m\n",
            "\u001b[0m\n",
            "\u001b[34m  Stopping...\u001b[0m\n"
          ]
        }
      ],
      "source": [
        "from pyngrok import ngrok\n",
        "\n",
        "public_url = ngrok.connect(8501).public_url\n",
        "print(f\"公開URL: {public_url}\")\n",
        "!streamlit run app.py"
      ]
    },
    {
      "cell_type": "markdown",
      "metadata": {
        "id": "kbYyXVFjELSN"
      },
      "source": [
        "公開URLの後に記載されているURLにブラウザでアクセスすると、streamlitのUIが表示されます。\n",
        "\n",
        "app.pyのコメントアウトされている箇所を編集することで、UIがどの様に変化するか確認してみましょう。\n",
        "\n",
        "streamlitの公式ページには、ギャラリーページがあります。\n",
        "\n",
        "streamlitを使うとpythonという一つの言語であっても、様々なUIを実現できることがわかると思います。\n",
        "\n",
        "https://streamlit.io/gallery"
      ]
    },
    {
      "cell_type": "markdown",
      "metadata": {
        "id": "MmtP5GLOELSN"
      },
      "source": [
        "後片付けとして、使う必要のないngrokのトンネルを削除します。"
      ]
    },
    {
      "cell_type": "code",
      "execution_count": 8,
      "metadata": {
        "id": "8Ek9QgahELSO"
      },
      "outputs": [],
      "source": [
        "from pyngrok import ngrok\n",
        "ngrok.kill()"
      ]
    },
    {
      "cell_type": "markdown",
      "metadata": {
        "id": "o-T8tFpyELSO"
      },
      "source": [
        "# 02_streamlit_app"
      ]
    },
    {
      "cell_type": "markdown",
      "metadata": {
        "id": "QqogFQKnELSO"
      },
      "source": [
        "\n",
        "ディレクトリ「02_streamlit_app」に移動します。"
      ]
    },
    {
      "cell_type": "code",
      "execution_count": 9,
      "metadata": {
        "id": "UeEjlJ7uELSO",
        "colab": {
          "base_uri": "https://localhost:8080/"
        },
        "outputId": "4abaf1c0-a2b8-4b53-8253-afcd4b313fef"
      },
      "outputs": [
        {
          "output_type": "stream",
          "name": "stdout",
          "text": [
            "/content/lecture-ai-engineering/day1/02_streamlit_app\n"
          ]
        }
      ],
      "source": [
        "%cd /content/lecture-ai-engineering/day1/02_streamlit_app"
      ]
    },
    {
      "cell_type": "markdown",
      "metadata": {
        "id": "-XUH2AstELSO"
      },
      "source": [
        "必要なライブラリをインストールします。"
      ]
    },
    {
      "cell_type": "code",
      "execution_count": 10,
      "metadata": {
        "id": "mDqvI4V3ELSO"
      },
      "outputs": [],
      "source": [
        "%%capture\n",
        "!pip install -r requirements.txt"
      ]
    },
    {
      "cell_type": "markdown",
      "metadata": {
        "id": "ZO31umGZELSO"
      },
      "source": [
        "ngrokとhuggigfaceのトークンを使用して、認証を行います。"
      ]
    },
    {
      "cell_type": "code",
      "execution_count": 11,
      "metadata": {
        "id": "jPxTiEWQELSO",
        "colab": {
          "base_uri": "https://localhost:8080/"
        },
        "outputId": "3bec3408-1ed0-4961-809b-c1eabb985201"
      },
      "outputs": [
        {
          "output_type": "stream",
          "name": "stdout",
          "text": [
            "Authtoken saved to configuration file: /root/.config/ngrok/ngrok.yml\n",
            "The token has not been saved to the git credentials helper. Pass `add_to_git_credential=True` in this function directly or `--add-to-git-credential` if using via `huggingface-cli` if you want to set the git credential as well.\n",
            "Token is valid (permission: fineGrained).\n",
            "The token `AI_matuo` has been saved to /root/.cache/huggingface/stored_tokens\n",
            "Your token has been saved to /root/.cache/huggingface/token\n",
            "Login successful.\n",
            "The current active token is: `AI_matuo`\n"
          ]
        }
      ],
      "source": [
        "!ngrok authtoken $$NGROK_TOKEN\n",
        "!huggingface-cli login --token $$HUGGINGFACE_TOKEN"
      ]
    },
    {
      "cell_type": "markdown",
      "metadata": {
        "id": "dz4WrELLELSP"
      },
      "source": [
        "stramlitでHuggingfaceのトークン情報を扱うために、streamlit用の設定ファイル（.streamlit）を作成し、トークンの情報を格納します。"
      ]
    },
    {
      "cell_type": "code",
      "execution_count": 12,
      "metadata": {
        "id": "W184-a7qFP0W"
      },
      "outputs": [],
      "source": [
        "# .streamlit/secrets.toml ファイルを作成\n",
        "import os\n",
        "import toml\n",
        "\n",
        "# 設定ファイルのディレクトリ確保\n",
        "os.makedirs('.streamlit', exist_ok=True)\n",
        "\n",
        "# 環境変数から取得したトークンを設定ファイルに書き込む\n",
        "secrets = {\n",
        "    \"huggingface\": {\n",
        "        \"token\": os.environ.get(\"HUGGINGFACE_TOKEN\", \"\")\n",
        "    }\n",
        "}\n",
        "\n",
        "# 設定ファイルを書き込む\n",
        "with open('.streamlit/secrets.toml', 'w') as f:\n",
        "    toml.dump(secrets, f)"
      ]
    },
    {
      "cell_type": "markdown",
      "metadata": {
        "id": "fK0vI_xKELSP"
      },
      "source": [
        "アプリを起動します。\n",
        "\n",
        "02_streamlit_appでは、Huggingfaceからモデルをダウンロードするため、初回起動には2分程度時間がかかります。\n",
        "\n",
        "この待ち時間を利用して、app.pyのコードを確認してみましょう。"
      ]
    },
    {
      "cell_type": "code",
      "execution_count": null,
      "metadata": {
        "id": "TBQyTTWTELSP",
        "colab": {
          "base_uri": "https://localhost:8080/"
        },
        "outputId": "93cbfd98-5b96-4298-bdbe-02c84d88c22f"
      },
      "outputs": [
        {
          "output_type": "stream",
          "name": "stdout",
          "text": [
            "公開URL: https://c6fc-34-19-64-253.ngrok-free.app\n",
            "\n",
            "Collecting usage statistics. To deactivate, set browser.gatherUsageStats to false.\n",
            "\u001b[0m\n",
            "\u001b[0m\n",
            "\u001b[34m\u001b[1m  You can now view your Streamlit app in your browser.\u001b[0m\n",
            "\u001b[0m\n",
            "\u001b[34m  Local URL: \u001b[0m\u001b[1mhttp://localhost:8501\u001b[0m\n",
            "\u001b[34m  Network URL: \u001b[0m\u001b[1mhttp://172.28.0.12:8501\u001b[0m\n",
            "\u001b[34m  External URL: \u001b[0m\u001b[1mhttp://34.19.64.253:8501\u001b[0m\n",
            "\u001b[0m\n",
            "NLTK loaded successfully.\n",
            "2025-04-20 09:34:08.943114: E external/local_xla/xla/stream_executor/cuda/cuda_fft.cc:477] Unable to register cuFFT factory: Attempting to register factory for plugin cuFFT when one has already been registered\n",
            "WARNING: All log messages before absl::InitializeLog() is called are written to STDERR\n",
            "E0000 00:00:1745141648.975565    4680 cuda_dnn.cc:8310] Unable to register cuDNN factory: Attempting to register factory for plugin cuDNN when one has already been registered\n",
            "E0000 00:00:1745141648.986049    4680 cuda_blas.cc:1418] Unable to register cuBLAS factory: Attempting to register factory for plugin cuBLAS when one has already been registered\n",
            "2025-04-20 09:34:09.042016: I tensorflow/core/platform/cpu_feature_guard.cc:210] This TensorFlow binary is optimized to use available CPU instructions in performance-critical operations.\n",
            "To enable the following instructions: AVX2 FMA, in other operations, rebuild TensorFlow with the appropriate compiler flags.\n",
            "NLTK Punkt data checked/downloaded.\n",
            "Database 'chat_feedback.db' initialized successfully.\n",
            "config.json: 100% 855/855 [00:00<00:00, 4.84MB/s]\n",
            "model.safetensors.index.json: 100% 90.6k/90.6k [00:00<00:00, 1.44MB/s]\n",
            "Fetching 2 files:   0% 0/2 [00:00<?, ?it/s]\n",
            "model-00002-of-00002.safetensors:   0% 0.00/3.64G [00:00<?, ?B/s]\u001b[A\n",
            "\n",
            "model-00001-of-00002.safetensors:   0% 0.00/4.96G [00:00<?, ?B/s]\u001b[A\u001b[A\n",
            "\n",
            "model-00001-of-00002.safetensors:   0% 21.0M/4.96G [00:00<00:26, 187MB/s]\u001b[A\u001b[A\n",
            "model-00002-of-00002.safetensors:   1% 21.0M/3.64G [00:00<00:24, 146MB/s]\u001b[A\n",
            "\n",
            "model-00001-of-00002.safetensors:   1% 52.4M/4.96G [00:00<00:22, 220MB/s]\u001b[A\u001b[A\n",
            "model-00002-of-00002.safetensors:   1% 52.4M/3.64G [00:00<00:17, 210MB/s]\u001b[A\n",
            "\n",
            "model-00001-of-00002.safetensors:   2% 83.9M/4.96G [00:00<00:22, 215MB/s]\u001b[A\u001b[A\n",
            "model-00002-of-00002.safetensors:   2% 83.9M/3.64G [00:00<00:20, 175MB/s]\u001b[A\n",
            "\n",
            "model-00001-of-00002.safetensors:   2% 115M/4.96G [00:00<00:25, 188MB/s] \u001b[A\u001b[A\n",
            "model-00002-of-00002.safetensors:   3% 105M/3.64G [00:00<00:20, 170MB/s] \u001b[A\n",
            "\n",
            "model-00001-of-00002.safetensors:   3% 136M/4.96G [00:00<00:25, 187MB/s]\u001b[A\u001b[A\n",
            "model-00002-of-00002.safetensors:   3% 126M/3.64G [00:00<00:20, 171MB/s]\u001b[A\n",
            "\n",
            "model-00001-of-00002.safetensors:   3% 157M/4.96G [00:00<00:26, 179MB/s]\u001b[A\u001b[A\n",
            "model-00002-of-00002.safetensors:   4% 157M/3.64G [00:00<00:19, 180MB/s]\u001b[A\n",
            "\n",
            "model-00001-of-00002.safetensors:   4% 189M/4.96G [00:01<00:27, 173MB/s]\u001b[A\u001b[A\n",
            "model-00002-of-00002.safetensors:   5% 178M/3.64G [00:01<00:20, 166MB/s]\u001b[A\n",
            "model-00002-of-00002.safetensors:   5% 199M/3.64G [00:01<00:19, 173MB/s]\u001b[A\n",
            "\n",
            "model-00001-of-00002.safetensors:   4% 220M/4.96G [00:01<00:27, 173MB/s]\u001b[A\u001b[A\n",
            "model-00002-of-00002.safetensors:   6% 220M/3.64G [00:01<00:20, 163MB/s]\u001b[A\n",
            "\n",
            "model-00001-of-00002.safetensors:   5% 241M/4.96G [00:01<00:27, 170MB/s]\u001b[A\u001b[A\n",
            "model-00002-of-00002.safetensors:   7% 241M/3.64G [00:01<00:20, 164MB/s]\u001b[A\n",
            "\n",
            "model-00001-of-00002.safetensors:   5% 262M/4.96G [00:01<00:27, 173MB/s]\u001b[A\u001b[A\n",
            "model-00002-of-00002.safetensors:   7% 262M/3.64G [00:01<00:21, 154MB/s]\u001b[A\n",
            "\n",
            "model-00001-of-00002.safetensors:   6% 283M/4.96G [00:01<00:30, 154MB/s]\u001b[A\u001b[A\n",
            "model-00002-of-00002.safetensors:   8% 283M/3.64G [00:01<00:23, 140MB/s]\u001b[A\n",
            "\n",
            "model-00001-of-00002.safetensors:   6% 304M/4.96G [00:01<00:32, 145MB/s]\u001b[A\u001b[A\n",
            "model-00002-of-00002.safetensors:   8% 304M/3.64G [00:03<01:20, 41.5MB/s]\u001b[A\n",
            "\n",
            "model-00001-of-00002.safetensors:   7% 325M/4.96G [00:03<01:49, 42.4MB/s]\u001b[A\u001b[A\n",
            "model-00002-of-00002.safetensors:   9% 325M/3.64G [00:03<01:02, 52.8MB/s]\u001b[A\n",
            "model-00002-of-00002.safetensors:  10% 357M/3.64G [00:04<01:25, 38.3MB/s]\u001b[A\n",
            "\n",
            "model-00001-of-00002.safetensors:   7% 346M/4.96G [00:04<02:43, 28.2MB/s]\u001b[A\u001b[A\n",
            "model-00002-of-00002.safetensors:  10% 377M/3.64G [00:04<01:08, 47.5MB/s]\u001b[A\n",
            "\n",
            "model-00001-of-00002.safetensors:   7% 357M/4.96G [00:05<03:45, 20.4MB/s]\u001b[A\u001b[A\n",
            "model-00002-of-00002.safetensors:  11% 388M/3.64G [00:05<01:55, 28.3MB/s]\u001b[A\n",
            "\n",
            "model-00001-of-00002.safetensors:   8% 377M/4.96G [00:05<02:40, 28.6MB/s]\u001b[A\u001b[A\n",
            "model-00002-of-00002.safetensors:  11% 409M/3.64G [00:05<01:26, 37.4MB/s]\u001b[A\n",
            "\n",
            "model-00001-of-00002.safetensors:   8% 398M/4.96G [00:05<01:57, 38.9MB/s]\u001b[A\u001b[A\n",
            "model-00002-of-00002.safetensors:  12% 430M/3.64G [00:06<01:05, 49.2MB/s]\u001b[A\n",
            "\n",
            "model-00001-of-00002.safetensors:   8% 419M/4.96G [00:07<02:51, 26.4MB/s]\u001b[A\u001b[A\n",
            "model-00002-of-00002.safetensors:  12% 451M/3.64G [00:07<01:46, 29.8MB/s]\u001b[A\n",
            "\n",
            "model-00001-of-00002.safetensors:   9% 440M/4.96G [00:08<03:23, 22.2MB/s]\u001b[A\u001b[A\n",
            "model-00002-of-00002.safetensors:  13% 482M/3.64G [00:08<01:54, 27.6MB/s]\u001b[A\n",
            "\n",
            "model-00001-of-00002.safetensors:   9% 461M/4.96G [00:08<02:29, 30.0MB/s]\u001b[A\u001b[A\n",
            "model-00002-of-00002.safetensors:  14% 503M/3.64G [00:08<01:29, 34.9MB/s]\u001b[A\n",
            "\n",
            "model-00001-of-00002.safetensors:  10% 482M/4.96G [00:08<01:53, 39.4MB/s]\u001b[A\u001b[A\n",
            "model-00002-of-00002.safetensors:  14% 524M/3.64G [00:08<01:09, 44.6MB/s]\u001b[A\n",
            "\n",
            "model-00001-of-00002.safetensors:  10% 514M/4.96G [00:09<01:16, 58.3MB/s]\u001b[A\u001b[A\n",
            "model-00002-of-00002.safetensors:  15% 545M/3.64G [00:09<00:55, 56.0MB/s]\u001b[A\n",
            "\n",
            "model-00001-of-00002.safetensors:  11% 535M/4.96G [00:09<01:01, 72.5MB/s]\u001b[A\u001b[A\n",
            "model-00002-of-00002.safetensors:  16% 566M/3.64G [00:09<00:45, 67.6MB/s]\u001b[A\n",
            "\n",
            "model-00001-of-00002.safetensors:  11% 556M/4.96G [00:09<00:51, 85.9MB/s]\u001b[A\u001b[A\n",
            "model-00002-of-00002.safetensors:  16% 587M/3.64G [00:09<00:38, 79.1MB/s]\u001b[A\n",
            "\n",
            "model-00001-of-00002.safetensors:  12% 577M/4.96G [00:09<00:45, 95.6MB/s]\u001b[A\u001b[A\n",
            "model-00002-of-00002.safetensors:  17% 608M/3.64G [00:09<00:31, 95.5MB/s]\u001b[A\n",
            "\n",
            "model-00001-of-00002.safetensors:  12% 598M/4.96G [00:09<00:40, 107MB/s] \u001b[A\u001b[A\n",
            "model-00002-of-00002.safetensors:  17% 629M/3.64G [00:09<00:28, 105MB/s] \u001b[A\n",
            "\n",
            "model-00001-of-00002.safetensors:  12% 619M/4.96G [00:09<00:37, 117MB/s]\u001b[A\u001b[A\n",
            "model-00002-of-00002.safetensors:  18% 650M/3.64G [00:09<00:27, 109MB/s]\u001b[A\n",
            "\n",
            "model-00001-of-00002.safetensors:  13% 640M/4.96G [00:09<00:33, 129MB/s]\u001b[A\u001b[A\n",
            "model-00002-of-00002.safetensors:  18% 671M/3.64G [00:09<00:24, 120MB/s]\u001b[A\n",
            "\n",
            "model-00001-of-00002.safetensors:  13% 661M/4.96G [00:09<00:32, 133MB/s]\u001b[A\u001b[A\n",
            "model-00002-of-00002.safetensors:  19% 692M/3.64G [00:10<00:21, 134MB/s]\u001b[A\n",
            "\n",
            "model-00001-of-00002.safetensors:  14% 682M/4.96G [00:10<00:29, 145MB/s]\u001b[A\u001b[A\n",
            "model-00002-of-00002.safetensors:  20% 713M/3.64G [00:10<00:22, 131MB/s]\u001b[A\n",
            "model-00002-of-00002.safetensors:  20% 734M/3.64G [00:10<00:20, 144MB/s]\u001b[A\n",
            "\n",
            "model-00001-of-00002.safetensors:  14% 703M/4.96G [00:10<00:42, 101MB/s]\u001b[A\u001b[A\n",
            "model-00002-of-00002.safetensors:  21% 755M/3.64G [00:10<00:20, 142MB/s]\u001b[A\n",
            "\n",
            "model-00001-of-00002.safetensors:  15% 724M/4.96G [00:10<00:38, 110MB/s]\u001b[A\u001b[A\n",
            "model-00002-of-00002.safetensors:  21% 776M/3.64G [00:10<00:19, 148MB/s]\u001b[A\n",
            "\n",
            "model-00001-of-00002.safetensors:  15% 744M/4.96G [00:10<00:36, 116MB/s]\u001b[A\u001b[A\n",
            "model-00002-of-00002.safetensors:  22% 797M/3.64G [00:10<00:19, 144MB/s]\u001b[A\n",
            "\n",
            "model-00001-of-00002.safetensors:  15% 765M/4.96G [00:10<00:34, 120MB/s]\u001b[A\u001b[A\n",
            "model-00002-of-00002.safetensors:  22% 818M/3.64G [00:10<00:21, 132MB/s]\u001b[A\n",
            "\n",
            "model-00001-of-00002.safetensors:  16% 786M/4.96G [00:11<00:31, 134MB/s]\u001b[A\u001b[A\n",
            "model-00002-of-00002.safetensors:  23% 839M/3.64G [00:11<00:21, 132MB/s]\u001b[A\n",
            "\n",
            "model-00001-of-00002.safetensors:  16% 807M/4.96G [00:11<00:30, 136MB/s]\u001b[A\u001b[A\n",
            "model-00002-of-00002.safetensors:  24% 860M/3.64G [00:11<00:22, 126MB/s]\u001b[A\n",
            "\n",
            "model-00001-of-00002.safetensors:  17% 828M/4.96G [00:11<00:32, 127MB/s]\u001b[A\u001b[A\n",
            "\n",
            "model-00001-of-00002.safetensors:  17% 849M/4.96G [00:11<00:30, 133MB/s]\u001b[A\u001b[A\n",
            "\n",
            "model-00001-of-00002.safetensors:  18% 881M/4.96G [00:11<00:25, 163MB/s]\u001b[A\u001b[A\n",
            "model-00002-of-00002.safetensors:  24% 881M/3.64G [00:11<00:28, 97.3MB/s]\u001b[A\n",
            "\n",
            "model-00001-of-00002.safetensors:  18% 902M/4.96G [00:11<00:25, 161MB/s]\u001b[A\u001b[A\n",
            "model-00002-of-00002.safetensors:  25% 902M/3.64G [00:11<00:26, 105MB/s] \u001b[A\n",
            "\n",
            "model-00001-of-00002.safetensors:  19% 923M/4.96G [00:11<00:27, 145MB/s]\u001b[A\u001b[A\n",
            "model-00002-of-00002.safetensors:  25% 923M/3.64G [00:11<00:23, 116MB/s]\u001b[A\n",
            "\n",
            "model-00001-of-00002.safetensors:  19% 944M/4.96G [00:12<00:29, 136MB/s]\u001b[A\u001b[A\n",
            "model-00002-of-00002.safetensors:  26% 944M/3.64G [00:12<00:23, 114MB/s]\u001b[A\n",
            "\n",
            "model-00001-of-00002.safetensors:  19% 965M/4.96G [00:12<00:28, 141MB/s]\u001b[A\u001b[A\n",
            "model-00002-of-00002.safetensors:  27% 965M/3.64G [00:12<00:23, 115MB/s]\u001b[A\n",
            "\n",
            "model-00001-of-00002.safetensors:  20% 986M/4.96G [00:13<01:33, 42.7MB/s]\u001b[A\u001b[A\n",
            "\n",
            "model-00001-of-00002.safetensors:  20% 1.01G/4.96G [00:13<01:12, 54.6MB/s]\u001b[A\u001b[A\n",
            "model-00002-of-00002.safetensors:  27% 986M/3.64G [00:13<01:08, 38.7MB/s]\u001b[A\n",
            "model-00002-of-00002.safetensors:  27% 996M/3.64G [00:14<01:52, 23.5MB/s]\u001b[A\n",
            "\n",
            "model-00001-of-00002.safetensors:  21% 1.03G/4.96G [00:15<02:05, 31.5MB/s]\u001b[A\u001b[A\n",
            "model-00002-of-00002.safetensors:  28% 1.02G/3.64G [00:15<01:19, 33.0MB/s]\u001b[A\n",
            "\n",
            "model-00001-of-00002.safetensors:  21% 1.05G/4.96G [00:15<01:34, 41.4MB/s]\u001b[A\u001b[A\n",
            "model-00002-of-00002.safetensors:  29% 1.04G/3.64G [00:15<00:58, 44.2MB/s]\u001b[A\n",
            "\n",
            "model-00001-of-00002.safetensors:  22% 1.07G/4.96G [00:15<01:13, 52.8MB/s]\u001b[A\u001b[A\n",
            "model-00002-of-00002.safetensors:  29% 1.06G/3.64G [00:15<00:44, 57.4MB/s]\u001b[A\n",
            "\n",
            "model-00001-of-00002.safetensors:  22% 1.09G/4.96G [00:15<00:58, 66.7MB/s]\u001b[A\u001b[A\n",
            "model-00002-of-00002.safetensors:  30% 1.08G/3.64G [00:15<00:35, 71.8MB/s]\u001b[A\n",
            "\n",
            "model-00001-of-00002.safetensors:  22% 1.11G/4.96G [00:15<00:46, 83.3MB/s]\u001b[A\u001b[A\n",
            "model-00002-of-00002.safetensors:  30% 1.10G/3.64G [00:15<00:28, 88.6MB/s]\u001b[A\n",
            "\n",
            "model-00001-of-00002.safetensors:  23% 1.13G/4.96G [00:15<00:39, 97.0MB/s]\u001b[A\u001b[A\n",
            "model-00002-of-00002.safetensors:  31% 1.13G/3.64G [00:15<00:21, 116MB/s] \u001b[A\n",
            "\n",
            "model-00001-of-00002.safetensors:  23% 1.15G/4.96G [00:15<00:34, 112MB/s] \u001b[A\u001b[A\n",
            "model-00002-of-00002.safetensors:  32% 1.16G/3.64G [00:15<00:18, 132MB/s]\u001b[A\n",
            "\n",
            "model-00001-of-00002.safetensors:  24% 1.18G/4.96G [00:15<00:27, 136MB/s]\u001b[A\u001b[A\n",
            "\n",
            "model-00001-of-00002.safetensors:  24% 1.21G/4.96G [00:16<00:25, 145MB/s]\u001b[A\u001b[A\n",
            "model-00002-of-00002.safetensors:  33% 1.18G/3.64G [00:16<00:17, 137MB/s]\u001b[A\n",
            "model-00002-of-00002.safetensors:  33% 1.21G/3.64G [00:16<00:17, 138MB/s]\u001b[A\n",
            "\n",
            "model-00001-of-00002.safetensors:  25% 1.23G/4.96G [00:16<00:27, 138MB/s]\u001b[A\u001b[A\n",
            "model-00002-of-00002.safetensors:  34% 1.23G/3.64G [00:16<00:18, 132MB/s]\u001b[A\n",
            "\n",
            "model-00001-of-00002.safetensors:  25% 1.25G/4.96G [00:16<00:28, 131MB/s]\u001b[A\u001b[A\n",
            "model-00002-of-00002.safetensors:  34% 1.25G/3.64G [00:16<00:18, 129MB/s]\u001b[A\n",
            "\n",
            "model-00001-of-00002.safetensors:  26% 1.27G/4.96G [00:16<00:29, 125MB/s]\u001b[A\u001b[A\n",
            "model-00002-of-00002.safetensors:  35% 1.27G/3.64G [00:16<00:18, 129MB/s]\u001b[A\n",
            "\n",
            "model-00001-of-00002.safetensors:  26% 1.29G/4.96G [00:16<00:29, 125MB/s]\u001b[A\u001b[A\n",
            "model-00002-of-00002.safetensors:  35% 1.29G/3.64G [00:16<00:18, 128MB/s]\u001b[A\n",
            "\n",
            "model-00001-of-00002.safetensors:  26% 1.31G/4.96G [00:16<00:27, 130MB/s]\u001b[A\u001b[A\n",
            "model-00002-of-00002.safetensors:  36% 1.31G/3.64G [00:17<00:17, 132MB/s]\u001b[A\n",
            "\n",
            "model-00001-of-00002.safetensors:  27% 1.33G/4.96G [00:17<00:27, 133MB/s]\u001b[A\u001b[A\n",
            "model-00002-of-00002.safetensors:  37% 1.33G/3.64G [00:17<00:17, 132MB/s]\u001b[A\n",
            "\n",
            "model-00001-of-00002.safetensors:  27% 1.35G/4.96G [00:17<00:27, 131MB/s]\u001b[A\u001b[A\n",
            "model-00002-of-00002.safetensors:  37% 1.35G/3.64G [00:17<00:18, 126MB/s]\u001b[A\n",
            "\n",
            "model-00001-of-00002.safetensors:  28% 1.37G/4.96G [00:17<00:28, 126MB/s]\u001b[A\u001b[A\n",
            "model-00002-of-00002.safetensors:  38% 1.37G/3.64G [00:17<00:17, 128MB/s]\u001b[A\n",
            "\n",
            "model-00001-of-00002.safetensors:  28% 1.39G/4.96G [00:17<00:28, 124MB/s]\u001b[A\u001b[A\n",
            "model-00002-of-00002.safetensors:  38% 1.39G/3.64G [00:17<00:18, 124MB/s]\u001b[A\n",
            "\n",
            "model-00001-of-00002.safetensors:  29% 1.42G/4.96G [00:17<00:28, 124MB/s]\u001b[A\u001b[A\n",
            "model-00002-of-00002.safetensors:  39% 1.42G/3.64G [00:17<00:16, 131MB/s]\u001b[A\n",
            "\n",
            "model-00001-of-00002.safetensors:  29% 1.44G/4.96G [00:17<00:28, 123MB/s]\u001b[A\u001b[A\n",
            "model-00002-of-00002.safetensors:  39% 1.44G/3.64G [00:18<00:17, 127MB/s]\u001b[A\n",
            "\n",
            "model-00001-of-00002.safetensors:  29% 1.46G/4.96G [00:18<00:27, 126MB/s]\u001b[A\u001b[A\n",
            "model-00002-of-00002.safetensors:  40% 1.46G/3.64G [00:18<00:17, 126MB/s]\u001b[A\n",
            "\n",
            "model-00001-of-00002.safetensors:  30% 1.48G/4.96G [00:18<00:27, 127MB/s]\u001b[A\u001b[A\n",
            "model-00002-of-00002.safetensors:  41% 1.48G/3.64G [00:18<00:16, 128MB/s]\u001b[A\n",
            "\n",
            "model-00001-of-00002.safetensors:  30% 1.50G/4.96G [00:18<00:27, 128MB/s]\u001b[A\u001b[A\n",
            "\n",
            "model-00001-of-00002.safetensors:  31% 1.52G/4.96G [00:18<00:25, 134MB/s]\u001b[A\u001b[A\n",
            "model-00002-of-00002.safetensors:  41% 1.50G/3.64G [00:18<00:17, 119MB/s]\u001b[A\n",
            "model-00002-of-00002.safetensors:  42% 1.52G/3.64G [00:18<00:17, 124MB/s]\u001b[A\n",
            "\n",
            "model-00001-of-00002.safetensors:  31% 1.54G/4.96G [00:18<00:27, 122MB/s]\u001b[A\u001b[A\n",
            "model-00002-of-00002.safetensors:  42% 1.54G/3.64G [00:18<00:16, 129MB/s]\u001b[A\n",
            "\n",
            "model-00001-of-00002.safetensors:  31% 1.56G/4.96G [00:18<00:26, 127MB/s]\u001b[A\u001b[A\n",
            "model-00002-of-00002.safetensors:  43% 1.56G/3.64G [00:21<01:14, 27.8MB/s]\u001b[A\n",
            "\n",
            "model-00001-of-00002.safetensors:  32% 1.58G/4.96G [00:21<02:00, 27.9MB/s]\u001b[A\u001b[A\n",
            "\n",
            "model-00001-of-00002.safetensors:  33% 1.61G/4.96G [00:21<01:18, 42.5MB/s]\u001b[A\u001b[A\n",
            "model-00002-of-00002.safetensors:  44% 1.58G/3.64G [00:21<00:56, 36.3MB/s]\u001b[A\n",
            "\n",
            "model-00001-of-00002.safetensors:  33% 1.64G/4.96G [00:21<01:01, 53.8MB/s]\u001b[A\u001b[A\n",
            "model-00002-of-00002.safetensors:  44% 1.60G/3.64G [00:21<00:42, 47.4MB/s]\u001b[A\n",
            "\n",
            "model-00001-of-00002.safetensors:  33% 1.66G/4.96G [00:21<00:51, 64.7MB/s]\u001b[A\u001b[A\n",
            "model-00002-of-00002.safetensors:  45% 1.63G/3.64G [00:21<00:34, 59.1MB/s]\u001b[A\n",
            "\n",
            "model-00001-of-00002.safetensors:  34% 1.68G/4.96G [00:21<00:41, 79.1MB/s]\u001b[A\u001b[A\n",
            "model-00002-of-00002.safetensors:  45% 1.65G/3.64G [00:21<00:27, 73.5MB/s]\u001b[A\n",
            "\n",
            "model-00001-of-00002.safetensors:  34% 1.70G/4.96G [00:21<00:34, 95.2MB/s]\u001b[A\u001b[A\n",
            "model-00002-of-00002.safetensors:  46% 1.68G/3.64G [00:21<00:19, 101MB/s] \u001b[A\n",
            "\n",
            "model-00001-of-00002.safetensors:  35% 1.72G/4.96G [00:21<00:29, 110MB/s] \u001b[A\u001b[A\n",
            "model-00002-of-00002.safetensors:  47% 1.70G/3.64G [00:21<00:16, 115MB/s]\u001b[A\n",
            "\n",
            "model-00001-of-00002.safetensors:  35% 1.74G/4.96G [00:21<00:26, 122MB/s]\u001b[A\u001b[A\n",
            "model-00002-of-00002.safetensors:  47% 1.72G/3.64G [00:21<00:15, 127MB/s]\u001b[A\n",
            "model-00002-of-00002.safetensors:  48% 1.74G/3.64G [00:22<00:13, 143MB/s]\u001b[A\n",
            "\n",
            "model-00001-of-00002.safetensors:  36% 1.77G/4.96G [00:22<00:23, 136MB/s]\u001b[A\u001b[A\n",
            "model-00002-of-00002.safetensors:  48% 1.76G/3.64G [00:22<00:13, 137MB/s]\u001b[A\n",
            "\n",
            "model-00001-of-00002.safetensors:  36% 1.79G/4.96G [00:22<00:22, 139MB/s]\u001b[A\u001b[A\n",
            "\n",
            "model-00001-of-00002.safetensors:  37% 1.81G/4.96G [00:22<00:22, 139MB/s]\u001b[A\u001b[A\n",
            "model-00002-of-00002.safetensors:  49% 1.78G/3.64G [00:22<00:14, 130MB/s]\u001b[A\n",
            "\n",
            "model-00001-of-00002.safetensors:  37% 1.84G/4.96G [00:22<00:22, 137MB/s]\u001b[A\u001b[A\n",
            "model-00002-of-00002.safetensors:  50% 1.80G/3.64G [00:22<00:14, 127MB/s]\u001b[A\n",
            "\n",
            "model-00001-of-00002.safetensors:  37% 1.86G/4.96G [00:22<00:21, 142MB/s]\u001b[A\u001b[A\n",
            "\n",
            "model-00001-of-00002.safetensors:  38% 1.89G/4.96G [00:22<00:18, 163MB/s]\u001b[A\u001b[A\n",
            "\n",
            "model-00001-of-00002.safetensors:  38% 1.91G/4.96G [00:22<00:18, 166MB/s]\u001b[A\u001b[A\n",
            "\n",
            "model-00001-of-00002.safetensors:  39% 1.93G/4.96G [00:23<00:18, 165MB/s]\u001b[A\u001b[A\n",
            "\n",
            "model-00001-of-00002.safetensors:  39% 1.95G/4.96G [00:23<00:19, 156MB/s]\u001b[A\u001b[A\n",
            "\n",
            "model-00001-of-00002.safetensors:  40% 1.97G/4.96G [00:23<00:20, 148MB/s]\u001b[A\u001b[A\n",
            "model-00002-of-00002.safetensors:  50% 1.82G/3.64G [00:23<00:36, 49.2MB/s]\u001b[A\n",
            "\n",
            "model-00001-of-00002.safetensors:  40% 1.99G/4.96G [00:23<00:23, 126MB/s]\u001b[A\u001b[A\n",
            "model-00002-of-00002.safetensors:  51% 1.85G/3.64G [00:23<00:29, 60.6MB/s]\u001b[A\n",
            "model-00002-of-00002.safetensors:  52% 1.88G/3.64G [00:23<00:20, 84.2MB/s]\u001b[A\n",
            "\n",
            "model-00001-of-00002.safetensors:  41% 2.01G/4.96G [00:23<00:30, 95.6MB/s]\u001b[A\u001b[A\n",
            "model-00002-of-00002.safetensors:  52% 1.90G/3.64G [00:24<00:19, 91.1MB/s]\u001b[A\n",
            "\n",
            "model-00001-of-00002.safetensors:  41% 2.03G/4.96G [00:24<00:28, 102MB/s] \u001b[A\u001b[A\n",
            "model-00002-of-00002.safetensors:  53% 1.92G/3.64G [00:24<00:17, 98.6MB/s]\u001b[A\n",
            "\n",
            "model-00001-of-00002.safetensors:  41% 2.06G/4.96G [00:24<00:26, 108MB/s]\u001b[A\u001b[A\n",
            "model-00002-of-00002.safetensors:  53% 1.94G/3.64G [00:24<00:15, 111MB/s] \u001b[A\n",
            "\n",
            "model-00001-of-00002.safetensors:  42% 2.08G/4.96G [00:24<00:24, 120MB/s]\u001b[A\u001b[A\n",
            "model-00002-of-00002.safetensors:  54% 1.96G/3.64G [00:24<00:14, 118MB/s]\u001b[A\n",
            "\n",
            "model-00001-of-00002.safetensors:  42% 2.10G/4.96G [00:24<00:22, 128MB/s]\u001b[A\u001b[A\n",
            "\n",
            "model-00001-of-00002.safetensors:  43% 2.12G/4.96G [00:24<00:20, 141MB/s]\u001b[A\u001b[A\n",
            "model-00002-of-00002.safetensors:  54% 1.98G/3.64G [00:24<00:13, 123MB/s]\u001b[A\n",
            "\n",
            "model-00001-of-00002.safetensors:  43% 2.14G/4.96G [00:24<00:18, 151MB/s]\u001b[A\u001b[A\n",
            "model-00002-of-00002.safetensors:  55% 2.00G/3.64G [00:24<00:12, 134MB/s]\u001b[A\n",
            "\n",
            "model-00001-of-00002.safetensors:  44% 2.16G/4.96G [00:24<00:19, 146MB/s]\u001b[A\u001b[A\n",
            "model-00002-of-00002.safetensors:  56% 2.02G/3.64G [00:24<00:12, 133MB/s]\u001b[A\n",
            "\n",
            "model-00001-of-00002.safetensors:  44% 2.18G/4.96G [00:25<00:18, 147MB/s]\u001b[A\u001b[A\n",
            "model-00002-of-00002.safetensors:  56% 2.04G/3.64G [00:25<00:12, 132MB/s]\u001b[A\n",
            "\n",
            "model-00001-of-00002.safetensors:  44% 2.20G/4.96G [00:25<00:19, 143MB/s]\u001b[A\u001b[A\n",
            "model-00002-of-00002.safetensors:  57% 2.07G/3.64G [00:25<00:11, 135MB/s]\u001b[A\n",
            "\n",
            "model-00001-of-00002.safetensors:  45% 2.22G/4.96G [00:25<00:19, 140MB/s]\u001b[A\u001b[A\n",
            "model-00002-of-00002.safetensors:  57% 2.09G/3.64G [00:25<00:11, 139MB/s]\u001b[A\n",
            "model-00002-of-00002.safetensors:  58% 2.11G/3.64G [00:25<00:10, 150MB/s]\u001b[A\n",
            "\n",
            "model-00001-of-00002.safetensors:  45% 2.24G/4.96G [00:25<00:19, 138MB/s]\u001b[A\u001b[A\n",
            "model-00002-of-00002.safetensors:  58% 2.13G/3.64G [00:25<00:09, 153MB/s]\u001b[A\n",
            "\n",
            "model-00001-of-00002.safetensors:  46% 2.26G/4.96G [00:25<00:19, 141MB/s]\u001b[A\u001b[A\n",
            "model-00002-of-00002.safetensors:  59% 2.15G/3.64G [00:25<00:09, 154MB/s]\u001b[A\n",
            "\n",
            "model-00001-of-00002.safetensors:  46% 2.29G/4.96G [00:25<00:18, 141MB/s]\u001b[A\u001b[A\n",
            "model-00002-of-00002.safetensors:  60% 2.17G/3.64G [00:25<00:10, 145MB/s]\u001b[A\n",
            "\n",
            "model-00001-of-00002.safetensors:  46% 2.31G/4.96G [00:25<00:18, 144MB/s]\u001b[A\u001b[A\n",
            "\n",
            "model-00001-of-00002.safetensors:  47% 2.33G/4.96G [00:26<00:18, 139MB/s]\u001b[A\u001b[A\n",
            "model-00002-of-00002.safetensors:  60% 2.19G/3.64G [00:26<00:11, 129MB/s]\u001b[A\n",
            "\n",
            "model-00001-of-00002.safetensors:  47% 2.35G/4.96G [00:26<00:19, 137MB/s]\u001b[A\u001b[A\n",
            "model-00002-of-00002.safetensors:  61% 2.21G/3.64G [00:26<00:10, 130MB/s]\u001b[A\n",
            "\n",
            "model-00001-of-00002.safetensors:  48% 2.37G/4.96G [00:26<00:19, 133MB/s]\u001b[A\u001b[A\n",
            "model-00002-of-00002.safetensors:  61% 2.23G/3.64G [00:26<00:11, 126MB/s]\u001b[A\n",
            "\n",
            "model-00001-of-00002.safetensors:  48% 2.39G/4.96G [00:26<00:19, 130MB/s]\u001b[A\u001b[A\n",
            "model-00002-of-00002.safetensors:  62% 2.25G/3.64G [00:26<00:11, 126MB/s]\u001b[A\n",
            "\n",
            "model-00001-of-00002.safetensors:  49% 2.41G/4.96G [00:26<00:18, 135MB/s]\u001b[A\u001b[A\n",
            "\n",
            "model-00001-of-00002.safetensors:  49% 2.43G/4.96G [00:26<00:17, 148MB/s]\u001b[A\u001b[A\n",
            "\n",
            "model-00001-of-00002.safetensors:  50% 2.46G/4.96G [00:27<00:14, 176MB/s]\u001b[A\u001b[A\n",
            "model-00002-of-00002.safetensors:  63% 2.28G/3.64G [00:27<00:14, 92.2MB/s]\u001b[A\n",
            "model-00002-of-00002.safetensors:  63% 2.30G/3.64G [00:29<00:50, 26.4MB/s]\u001b[A\n",
            "\n",
            "model-00001-of-00002.safetensors:  50% 2.49G/4.96G [00:29<01:19, 31.3MB/s]\u001b[A\u001b[A\n",
            "\n",
            "model-00001-of-00002.safetensors:  51% 2.53G/4.96G [00:29<00:46, 51.9MB/s]\u001b[A\u001b[A\n",
            "model-00002-of-00002.safetensors:  64% 2.33G/3.64G [00:29<00:32, 40.4MB/s]\u001b[A\n",
            "\n",
            "model-00001-of-00002.safetensors:  51% 2.55G/4.96G [00:29<00:39, 60.6MB/s]\u001b[A\u001b[A\n",
            "model-00002-of-00002.safetensors:  65% 2.36G/3.64G [00:29<00:22, 56.5MB/s]\u001b[A\n",
            "model-00002-of-00002.safetensors:  65% 2.38G/3.64G [00:29<00:18, 68.1MB/s]\u001b[A\n",
            "\n",
            "model-00001-of-00002.safetensors:  52% 2.57G/4.96G [00:29<00:33, 70.8MB/s]\u001b[A\u001b[A\n",
            "model-00002-of-00002.safetensors:  66% 2.40G/3.64G [00:29<00:15, 80.3MB/s]\u001b[A\n",
            "\n",
            "model-00001-of-00002.safetensors:  52% 2.59G/4.96G [00:29<00:28, 83.9MB/s]\u001b[A\u001b[A\n",
            "model-00002-of-00002.safetensors:  67% 2.42G/3.64G [00:29<00:12, 94.9MB/s]\u001b[A\n",
            "\n",
            "model-00001-of-00002.safetensors:  53% 2.61G/4.96G [00:29<00:23, 99.1MB/s]\u001b[A\u001b[A\n",
            "model-00002-of-00002.safetensors:  67% 2.44G/3.64G [00:29<00:10, 110MB/s] \u001b[A\n",
            "\n",
            "model-00001-of-00002.safetensors:  53% 2.63G/4.96G [00:29<00:20, 115MB/s] \u001b[A\u001b[A\n",
            "model-00002-of-00002.safetensors:  68% 2.46G/3.64G [00:30<00:09, 123MB/s]\u001b[A\n",
            "\n",
            "model-00001-of-00002.safetensors:  54% 2.66G/4.96G [00:30<00:16, 139MB/s]\u001b[A\u001b[A\n",
            "model-00002-of-00002.safetensors:  68% 2.49G/3.64G [00:30<00:08, 135MB/s]\u001b[A\n",
            "\n",
            "model-00001-of-00002.safetensors:  54% 2.68G/4.96G [00:30<00:15, 148MB/s]\u001b[A\u001b[A\n",
            "model-00002-of-00002.safetensors:  69% 2.51G/3.64G [00:30<00:08, 137MB/s]\u001b[A\n",
            "\n",
            "model-00001-of-00002.safetensors:  55% 2.71G/4.96G [00:30<00:16, 136MB/s]\u001b[A\u001b[A\n",
            "model-00002-of-00002.safetensors:  69% 2.53G/3.64G [00:30<00:08, 133MB/s]\u001b[A\n",
            "\n",
            "model-00001-of-00002.safetensors:  55% 2.73G/4.96G [00:30<00:16, 132MB/s]\u001b[A\u001b[A\n",
            "model-00002-of-00002.safetensors:  70% 2.55G/3.64G [00:30<00:07, 140MB/s]\u001b[A\n",
            "\n",
            "model-00001-of-00002.safetensors:  55% 2.75G/4.96G [00:30<00:17, 127MB/s]\u001b[A\u001b[A\n",
            "model-00002-of-00002.safetensors:  71% 2.57G/3.64G [00:30<00:07, 135MB/s]\u001b[A\n",
            "\n",
            "model-00001-of-00002.safetensors:  56% 2.77G/4.96G [00:30<00:17, 129MB/s]\u001b[A\u001b[A\n",
            "model-00002-of-00002.safetensors:  71% 2.59G/3.64G [00:30<00:08, 128MB/s]\u001b[A\n",
            "\n",
            "model-00001-of-00002.safetensors:  56% 2.79G/4.96G [00:31<00:17, 126MB/s]\u001b[A\u001b[A\n",
            "model-00002-of-00002.safetensors:  72% 2.61G/3.64G [00:31<00:08, 126MB/s]\u001b[A\n",
            "\n",
            "model-00001-of-00002.safetensors:  57% 2.81G/4.96G [00:32<00:52, 41.4MB/s]\u001b[A\u001b[A\n",
            "model-00002-of-00002.safetensors:  72% 2.63G/3.64G [00:33<00:36, 27.8MB/s]\u001b[A\n",
            "model-00002-of-00002.safetensors:  73% 2.67G/3.64G [00:33<00:20, 48.1MB/s]\u001b[A\n",
            "\n",
            "model-00001-of-00002.safetensors:  57% 2.82G/4.96G [00:33<01:21, 26.4MB/s]\u001b[A\u001b[A\n",
            "model-00002-of-00002.safetensors:  74% 2.71G/3.64G [00:33<00:14, 65.6MB/s]\u001b[A\n",
            "\n",
            "model-00001-of-00002.safetensors:  57% 2.84G/4.96G [00:33<00:58, 36.4MB/s]\u001b[A\u001b[A\n",
            "model-00002-of-00002.safetensors:  75% 2.73G/3.64G [00:33<00:12, 74.2MB/s]\u001b[A\n",
            "\n",
            "model-00001-of-00002.safetensors:  58% 2.86G/4.96G [00:33<00:43, 48.0MB/s]\u001b[A\u001b[A\n",
            "model-00002-of-00002.safetensors:  75% 2.75G/3.64G [00:33<00:10, 86.2MB/s]\u001b[A\n",
            "\n",
            "model-00001-of-00002.safetensors:  58% 2.88G/4.96G [00:33<00:32, 63.1MB/s]\u001b[A\u001b[A\n",
            "model-00002-of-00002.safetensors:  76% 2.77G/3.64G [00:33<00:08, 101MB/s] \u001b[A\n",
            "\n",
            "model-00001-of-00002.safetensors:  59% 2.90G/4.96G [00:33<00:26, 78.8MB/s]\u001b[A\u001b[A\n",
            "model-00002-of-00002.safetensors:  77% 2.79G/3.64G [00:34<00:07, 118MB/s]\u001b[A\n",
            "\n",
            "model-00001-of-00002.safetensors:  59% 2.94G/4.96G [00:34<00:19, 103MB/s] \u001b[A\u001b[A\n",
            "model-00002-of-00002.safetensors:  77% 2.81G/3.64G [00:34<00:06, 130MB/s]\u001b[A\n",
            "\n",
            "model-00001-of-00002.safetensors:  60% 2.96G/4.96G [00:34<00:17, 117MB/s]\u001b[A\u001b[A\n",
            "model-00002-of-00002.safetensors:  78% 2.83G/3.64G [00:34<00:05, 140MB/s]\u001b[A\n",
            "\n",
            "model-00001-of-00002.safetensors:  60% 2.98G/4.96G [00:34<00:15, 130MB/s]\u001b[A\u001b[A\n",
            "model-00002-of-00002.safetensors:  78% 2.85G/3.64G [00:34<00:05, 154MB/s]\u001b[A\n",
            "\n",
            "model-00001-of-00002.safetensors:  60% 3.00G/4.96G [00:34<00:14, 137MB/s]\u001b[A\u001b[A\n",
            "model-00002-of-00002.safetensors:  79% 2.87G/3.64G [00:34<00:05, 150MB/s]\u001b[A\n",
            "\n",
            "model-00001-of-00002.safetensors:  61% 3.02G/4.96G [00:34<00:14, 133MB/s]\u001b[A\u001b[A\n",
            "model-00002-of-00002.safetensors:  80% 2.89G/3.64G [00:34<00:05, 144MB/s]\u001b[A\n",
            "model-00002-of-00002.safetensors:  80% 2.92G/3.64G [00:34<00:05, 142MB/s]\u001b[A\n",
            "model-00002-of-00002.safetensors:  81% 2.94G/3.64G [00:34<00:04, 156MB/s]\u001b[A\n",
            "model-00002-of-00002.safetensors:  81% 2.96G/3.64G [00:35<00:04, 167MB/s]\u001b[A\n",
            "model-00002-of-00002.safetensors:  82% 2.98G/3.64G [00:35<00:03, 167MB/s]\u001b[A\n",
            "model-00002-of-00002.safetensors:  83% 3.01G/3.64G [00:35<00:03, 185MB/s]\u001b[A\n",
            "model-00002-of-00002.safetensors:  83% 3.03G/3.64G [00:35<00:03, 183MB/s]\u001b[A\n",
            "model-00002-of-00002.safetensors:  84% 3.05G/3.64G [00:35<00:03, 184MB/s]\u001b[A\n",
            "\n",
            "model-00001-of-00002.safetensors:  61% 3.04G/4.96G [00:35<00:37, 51.3MB/s]\u001b[A\u001b[A\n",
            "model-00002-of-00002.safetensors:  84% 3.07G/3.64G [00:35<00:03, 170MB/s]\u001b[A\n",
            "\n",
            "model-00001-of-00002.safetensors:  62% 3.06G/4.96G [00:35<00:30, 62.0MB/s]\u001b[A\u001b[A\n",
            "model-00002-of-00002.safetensors:  85% 3.09G/3.64G [00:35<00:03, 155MB/s]\u001b[A\n",
            "model-00002-of-00002.safetensors:  86% 3.11G/3.64G [00:36<00:03, 150MB/s]\u001b[A\n",
            "\n",
            "model-00001-of-00002.safetensors:  62% 3.08G/4.96G [00:36<00:25, 73.1MB/s]\u001b[A\u001b[A\n",
            "model-00002-of-00002.safetensors:  86% 3.14G/3.64G [00:36<00:03, 164MB/s]\u001b[A\n",
            "\n",
            "model-00001-of-00002.safetensors:  63% 3.10G/4.96G [00:36<00:21, 87.3MB/s]\u001b[A\u001b[A\n",
            "model-00002-of-00002.safetensors:  87% 3.17G/3.64G [00:36<00:02, 182MB/s]\u001b[A\n",
            "\n",
            "model-00001-of-00002.safetensors:  63% 3.12G/4.96G [00:36<00:17, 105MB/s] \u001b[A\u001b[A\n",
            "model-00002-of-00002.safetensors:  88% 3.19G/3.64G [00:36<00:02, 188MB/s]\u001b[A\n",
            "\n",
            "model-00001-of-00002.safetensors:  63% 3.15G/4.96G [00:36<00:15, 118MB/s]\u001b[A\u001b[A\n",
            "model-00002-of-00002.safetensors:  88% 3.21G/3.64G [00:36<00:02, 183MB/s]\u001b[A\n",
            "\n",
            "model-00001-of-00002.safetensors:  64% 3.17G/4.96G [00:36<00:14, 125MB/s]\u001b[A\u001b[A\n",
            "model-00002-of-00002.safetensors:  89% 3.23G/3.64G [00:36<00:02, 151MB/s]\u001b[A\n",
            "\n",
            "model-00001-of-00002.safetensors:  64% 3.19G/4.96G [00:36<00:14, 125MB/s]\u001b[A\u001b[A\n",
            "model-00002-of-00002.safetensors:  89% 3.25G/3.64G [00:36<00:02, 136MB/s]\u001b[A\n",
            "\n",
            "model-00001-of-00002.safetensors:  65% 3.21G/4.96G [00:36<00:14, 121MB/s]\u001b[A\u001b[A\n",
            "model-00002-of-00002.safetensors:  90% 3.27G/3.64G [00:37<00:02, 138MB/s]\u001b[A\n",
            "\n",
            "model-00001-of-00002.safetensors:  65% 3.23G/4.96G [00:37<00:14, 122MB/s]\u001b[A\u001b[A\n",
            "\n",
            "model-00001-of-00002.safetensors:  66% 3.25G/4.96G [00:37<00:13, 126MB/s]\u001b[A\u001b[A\n",
            "model-00002-of-00002.safetensors:  90% 3.29G/3.64G [00:37<00:02, 125MB/s]\u001b[A\n",
            "\n",
            "model-00001-of-00002.safetensors:  66% 3.27G/4.96G [00:37<00:13, 130MB/s]\u001b[A\u001b[A\n",
            "model-00002-of-00002.safetensors:  91% 3.31G/3.64G [00:37<00:02, 122MB/s]\u001b[A\n",
            "\n",
            "model-00001-of-00002.safetensors:  66% 3.29G/4.96G [00:37<00:14, 116MB/s]\u001b[A\u001b[A\n",
            "model-00002-of-00002.safetensors:  92% 3.33G/3.64G [00:37<00:02, 117MB/s]\u001b[A\n",
            "\n",
            "model-00001-of-00002.safetensors:  67% 3.31G/4.96G [00:37<00:13, 120MB/s]\u001b[A\u001b[A\n",
            "model-00002-of-00002.safetensors:  92% 3.36G/3.64G [00:37<00:02, 118MB/s]\u001b[A\n",
            "\n",
            "model-00001-of-00002.safetensors:  67% 3.33G/4.96G [00:37<00:12, 129MB/s]\u001b[A\u001b[A\n",
            "model-00002-of-00002.safetensors:  93% 3.38G/3.64G [00:37<00:02, 119MB/s]\u001b[A\n",
            "\n",
            "model-00001-of-00002.safetensors:  68% 3.36G/4.96G [00:38<00:13, 123MB/s]\u001b[A\u001b[A\n",
            "model-00002-of-00002.safetensors:  93% 3.40G/3.64G [00:38<00:02, 116MB/s]\u001b[A\n",
            "\n",
            "model-00001-of-00002.safetensors:  68% 3.38G/4.96G [00:38<00:13, 117MB/s]\u001b[A\u001b[A\n",
            "model-00002-of-00002.safetensors:  94% 3.42G/3.64G [00:38<00:01, 121MB/s]\u001b[A\n",
            "\n",
            "model-00001-of-00002.safetensors:  68% 3.40G/4.96G [00:38<00:12, 123MB/s]\u001b[A\u001b[A\n",
            "model-00002-of-00002.safetensors:  95% 3.44G/3.64G [00:38<00:01, 121MB/s]\u001b[A\n",
            "\n",
            "model-00001-of-00002.safetensors:  69% 3.42G/4.96G [00:38<00:12, 124MB/s]\u001b[A\u001b[A\n",
            "model-00002-of-00002.safetensors:  95% 3.46G/3.64G [00:38<00:01, 110MB/s]\u001b[A\n",
            "\n",
            "model-00001-of-00002.safetensors:  69% 3.44G/4.96G [00:38<00:13, 112MB/s]\u001b[A\u001b[A\n",
            "model-00002-of-00002.safetensors:  96% 3.48G/3.64G [00:38<00:01, 118MB/s]\u001b[A\n",
            "\n",
            "model-00001-of-00002.safetensors:  70% 3.46G/4.96G [00:39<00:13, 111MB/s]\u001b[A\u001b[A\n",
            "model-00002-of-00002.safetensors:  96% 3.50G/3.64G [00:39<00:01, 119MB/s]\u001b[A\n",
            "model-00002-of-00002.safetensors:  97% 3.52G/3.64G [00:39<00:00, 130MB/s]\u001b[A\n",
            "\n",
            "model-00001-of-00002.safetensors:  70% 3.48G/4.96G [00:39<00:12, 118MB/s]\u001b[A\u001b[A\n",
            "model-00002-of-00002.safetensors:  97% 3.54G/3.64G [00:39<00:00, 106MB/s]\u001b[A\n",
            "model-00002-of-00002.safetensors:  98% 3.57G/3.64G [00:39<00:00, 97.9MB/s]\u001b[A\n",
            "\n",
            "model-00001-of-00002.safetensors:  71% 3.50G/4.96G [00:40<00:28, 50.9MB/s]\u001b[A\u001b[A\n",
            "model-00002-of-00002.safetensors:  99% 3.59G/3.64G [00:40<00:00, 71.5MB/s]\u001b[A\n",
            "\n",
            "model-00001-of-00002.safetensors:  71% 3.52G/4.96G [00:40<00:23, 61.7MB/s]\u001b[A\u001b[A\n",
            "model-00002-of-00002.safetensors:  99% 3.60G/3.64G [00:40<00:00, 69.7MB/s]\u001b[A\n",
            "model-00002-of-00002.safetensors:  99% 3.61G/3.64G [00:40<00:00, 74.4MB/s]\u001b[A\n",
            "\n",
            "model-00001-of-00002.safetensors:  71% 3.54G/4.96G [00:40<00:19, 73.2MB/s]\u001b[A\u001b[A\n",
            "model-00002-of-00002.safetensors: 100% 3.63G/3.64G [00:40<00:00, 90.5MB/s]\u001b[A\n",
            "\n",
            "model-00001-of-00002.safetensors:  72% 3.58G/4.96G [00:40<00:13, 99.6MB/s]\u001b[A\u001b[A\n",
            "model-00002-of-00002.safetensors: 100% 3.64G/3.64G [00:40<00:00, 91.5MB/s]\u001b[A\n",
            "\n",
            "model-00002-of-00002.safetensors: 100% 3.64G/3.64G [00:40<00:00, 89.2MB/s]\n",
            "\n",
            "\n",
            "model-00001-of-00002.safetensors:  73% 3.62G/4.96G [00:40<00:12, 110MB/s]\u001b[A\u001b[A\n",
            "\n",
            "model-00001-of-00002.safetensors:  73% 3.64G/4.96G [00:41<00:11, 119MB/s]\u001b[A\u001b[A\n",
            "\n",
            "model-00001-of-00002.safetensors:  74% 3.66G/4.96G [00:41<00:10, 125MB/s]\u001b[A\u001b[A\n",
            "\n",
            "model-00001-of-00002.safetensors:  74% 3.68G/4.96G [00:41<00:09, 140MB/s]\u001b[A\u001b[A\n",
            "\n",
            "model-00001-of-00002.safetensors:  75% 3.72G/4.96G [00:41<00:06, 190MB/s]\u001b[A\u001b[A\n",
            "\n",
            "model-00001-of-00002.safetensors:  76% 3.75G/4.96G [00:41<00:05, 215MB/s]\u001b[A\u001b[A\n",
            "\n",
            "model-00001-of-00002.safetensors:  76% 3.79G/4.96G [00:41<00:05, 223MB/s]\u001b[A\u001b[A\n",
            "\n",
            "model-00001-of-00002.safetensors:  77% 3.83G/4.96G [00:41<00:04, 254MB/s]\u001b[A\u001b[A\n",
            "\n",
            "model-00001-of-00002.safetensors:  78% 3.86G/4.96G [00:45<00:40, 27.1MB/s]\u001b[A\u001b[A\n",
            "\n",
            "model-00001-of-00002.safetensors:  79% 3.90G/4.96G [00:45<00:26, 40.2MB/s]\u001b[A\u001b[A\n",
            "\n",
            "model-00001-of-00002.safetensors:  79% 3.94G/4.96G [00:45<00:17, 57.1MB/s]\u001b[A\u001b[A\n",
            "\n",
            "model-00001-of-00002.safetensors:  80% 3.98G/4.96G [00:45<00:12, 77.2MB/s]\u001b[A\u001b[A\n",
            "\n",
            "model-00001-of-00002.safetensors:  81% 4.03G/4.96G [00:46<00:09, 102MB/s] \u001b[A\u001b[A\n",
            "\n",
            "model-00001-of-00002.safetensors:  82% 4.07G/4.96G [00:46<00:06, 129MB/s]\u001b[A\u001b[A\n",
            "\n",
            "model-00001-of-00002.safetensors:  83% 4.10G/4.96G [00:46<00:05, 151MB/s]\u001b[A\u001b[A\n",
            "\n",
            "model-00001-of-00002.safetensors:  83% 4.14G/4.96G [00:46<00:04, 181MB/s]\u001b[A\u001b[A\n",
            "\n",
            "model-00001-of-00002.safetensors:  84% 4.18G/4.96G [00:46<00:03, 212MB/s]\u001b[A\u001b[A\n",
            "\n",
            "model-00001-of-00002.safetensors:  85% 4.22G/4.96G [00:46<00:03, 229MB/s]\u001b[A\u001b[A\n",
            "\n",
            "model-00001-of-00002.safetensors:  86% 4.25G/4.96G [00:46<00:02, 246MB/s]\u001b[A\u001b[A\n",
            "\n",
            "model-00001-of-00002.safetensors:  86% 4.28G/4.96G [00:46<00:02, 261MB/s]\u001b[A\u001b[A\n",
            "\n",
            "model-00001-of-00002.safetensors:  87% 4.32G/4.96G [00:47<00:02, 278MB/s]\u001b[A\u001b[A\n",
            "\n",
            "model-00001-of-00002.safetensors:  88% 4.35G/4.96G [00:47<00:02, 283MB/s]\u001b[A\u001b[A\n",
            "\n",
            "model-00001-of-00002.safetensors:  88% 4.38G/4.96G [00:47<00:02, 276MB/s]\u001b[A\u001b[A\n",
            "\n",
            "model-00001-of-00002.safetensors:  89% 4.41G/4.96G [00:47<00:01, 276MB/s]\u001b[A\u001b[A\n",
            "\n",
            "model-00001-of-00002.safetensors:  90% 4.45G/4.96G [00:47<00:02, 244MB/s]\u001b[A\u001b[A\n",
            "\n",
            "model-00001-of-00002.safetensors:  90% 4.48G/4.96G [00:47<00:01, 258MB/s]\u001b[A\u001b[A\n",
            "\n",
            "model-00001-of-00002.safetensors:  91% 4.52G/4.96G [00:47<00:01, 258MB/s]\u001b[A\u001b[A\n",
            "\n",
            "model-00001-of-00002.safetensors:  92% 4.55G/4.96G [00:47<00:01, 260MB/s]\u001b[A\u001b[A\n",
            "\n",
            "model-00001-of-00002.safetensors:  92% 4.58G/4.96G [00:48<00:01, 266MB/s]\u001b[A\u001b[A\n",
            "\n",
            "model-00001-of-00002.safetensors:  93% 4.61G/4.96G [00:48<00:01, 259MB/s]\u001b[A\u001b[A\n",
            "\n",
            "model-00001-of-00002.safetensors:  94% 4.65G/4.96G [00:48<00:01, 256MB/s]\u001b[A\u001b[A\n",
            "\n",
            "model-00001-of-00002.safetensors:  94% 4.68G/4.96G [00:48<00:01, 247MB/s]\u001b[A\u001b[A\n",
            "\n",
            "model-00001-of-00002.safetensors:  95% 4.71G/4.96G [00:48<00:01, 250MB/s]\u001b[A\u001b[A\n",
            "\n",
            "model-00001-of-00002.safetensors:  96% 4.74G/4.96G [00:48<00:00, 257MB/s]\u001b[A\u001b[A\n",
            "\n",
            "model-00001-of-00002.safetensors:  96% 4.77G/4.96G [00:48<00:00, 256MB/s]\u001b[A\u001b[A\n",
            "\n",
            "model-00001-of-00002.safetensors:  97% 4.80G/4.96G [00:48<00:00, 252MB/s]\u001b[A\u001b[A\n",
            "\n",
            "model-00001-of-00002.safetensors:  97% 4.83G/4.96G [00:49<00:01, 86.0MB/s]\u001b[A\u001b[A\n",
            "\n",
            "model-00001-of-00002.safetensors:  98% 4.88G/4.96G [00:49<00:00, 119MB/s] \u001b[A\u001b[A\n",
            "\n",
            "model-00001-of-00002.safetensors:  99% 4.92G/4.96G [00:50<00:00, 155MB/s]\u001b[A\u001b[A\n",
            "\n",
            "model-00001-of-00002.safetensors: 100% 4.96G/4.96G [00:50<00:00, 98.8MB/s]\n",
            "Fetching 2 files: 100% 2/2 [00:50<00:00, 25.20s/it]\n",
            "Loading checkpoint shards: 100% 2/2 [00:01<00:00,  1.49it/s]\n",
            "generation_config.json: 100% 215/215 [00:00<00:00, 1.72MB/s]\n",
            "tokenizer_config.json: 100% 1.16M/1.16M [00:00<00:00, 8.66MB/s]\n",
            "tokenizer.model: 100% 4.69M/4.69M [00:00<00:00, 90.2MB/s]\n",
            "tokenizer.json: 100% 33.4M/33.4M [00:00<00:00, 205MB/s]\n",
            "added_tokens.json: 100% 35.0/35.0 [00:00<00:00, 368kB/s]\n",
            "special_tokens_map.json: 100% 662/662 [00:00<00:00, 7.01MB/s]\n",
            "Device set to use cuda\n",
            "2025-04-20 09:35:49.500 Examining the path of torch.classes raised:\n",
            "Traceback (most recent call last):\n",
            "  File \"/usr/local/lib/python3.11/dist-packages/streamlit/web/bootstrap.py\", line 347, in run\n",
            "    if asyncio.get_running_loop().is_running():\n",
            "       ^^^^^^^^^^^^^^^^^^^^^^^^^^\n",
            "RuntimeError: no running event loop\n",
            "\n",
            "During handling of the above exception, another exception occurred:\n",
            "\n",
            "Traceback (most recent call last):\n",
            "  File \"/usr/local/lib/python3.11/dist-packages/streamlit/watcher/local_sources_watcher.py\", line 217, in get_module_paths\n",
            "    potential_paths = extract_paths(module)\n",
            "                      ^^^^^^^^^^^^^^^^^^^^^\n",
            "  File \"/usr/local/lib/python3.11/dist-packages/streamlit/watcher/local_sources_watcher.py\", line 210, in <lambda>\n",
            "    lambda m: list(m.__path__._path),\n",
            "                   ^^^^^^^^^^^^^^^^\n",
            "  File \"/usr/local/lib/python3.11/dist-packages/torch/_classes.py\", line 13, in __getattr__\n",
            "    proxy = torch._C._get_custom_class_python_wrapper(self.name, attr)\n",
            "            ^^^^^^^^^^^^^^^^^^^^^^^^^^^^^^^^^^^^^^^^^^^^^^^^^^^^^^^^^^\n",
            "RuntimeError: Tried to instantiate class '__path__._path', but it does not exist! Ensure that it is registered via torch::class_\n",
            "NLTK Punkt data checked/downloaded.\n",
            "Database 'chat_feedback.db' initialized successfully.\n",
            "NLTK Punkt data checked/downloaded.\n",
            "Database 'chat_feedback.db' initialized successfully.\n",
            "Generated response in 5.18s\n",
            "NLTK Punkt data checked/downloaded.\n",
            "Database 'chat_feedback.db' initialized successfully.\n",
            "NLTK Punkt data checked/downloaded.\n",
            "Database 'chat_feedback.db' initialized successfully.\n",
            "NLTK Punkt data checked/downloaded.\n",
            "Database 'chat_feedback.db' initialized successfully.\n",
            "Generated response in 2.20s\n",
            "NLTK Punkt data checked/downloaded.\n",
            "Database 'chat_feedback.db' initialized successfully.\n",
            "NLTK Punkt data checked/downloaded.\n",
            "Database 'chat_feedback.db' initialized successfully.\n",
            "NLTK Punkt data checked/downloaded.\n",
            "Database 'chat_feedback.db' initialized successfully.\n",
            "Generated response in 22.17s\n",
            "NLTK Punkt data checked/downloaded.\n",
            "Database 'chat_feedback.db' initialized successfully.\n",
            "NLTK Punkt data checked/downloaded.\n",
            "Database 'chat_feedback.db' initialized successfully.\n",
            "NLTK Punkt data checked/downloaded.\n",
            "Database 'chat_feedback.db' initialized successfully.\n",
            "NLTK Punkt data checked/downloaded.\n",
            "Database 'chat_feedback.db' initialized successfully.\n",
            "Generated response in 2.14s\n",
            "NLTK Punkt data checked/downloaded.\n",
            "Database 'chat_feedback.db' initialized successfully.\n",
            "Generated response in 5.07s\n",
            "NLTK Punkt data checked/downloaded.\n",
            "Database 'chat_feedback.db' initialized successfully.\n",
            "Data saved to DB successfully.\n",
            "NLTK Punkt data checked/downloaded.\n",
            "Database 'chat_feedback.db' initialized successfully.\n",
            "2025-04-20 09:38:41.970 Examining the path of torch.classes raised:\n",
            "Traceback (most recent call last):\n",
            "  File \"/usr/local/lib/python3.11/dist-packages/streamlit/web/bootstrap.py\", line 347, in run\n",
            "    if asyncio.get_running_loop().is_running():\n",
            "       ^^^^^^^^^^^^^^^^^^^^^^^^^^\n",
            "RuntimeError: no running event loop\n",
            "\n",
            "During handling of the above exception, another exception occurred:\n",
            "\n",
            "Traceback (most recent call last):\n",
            "  File \"/usr/local/lib/python3.11/dist-packages/streamlit/watcher/local_sources_watcher.py\", line 217, in get_module_paths\n",
            "    potential_paths = extract_paths(module)\n",
            "                      ^^^^^^^^^^^^^^^^^^^^^\n",
            "  File \"/usr/local/lib/python3.11/dist-packages/streamlit/watcher/local_sources_watcher.py\", line 210, in <lambda>\n",
            "    lambda m: list(m.__path__._path),\n",
            "                   ^^^^^^^^^^^^^^^^\n",
            "  File \"/usr/local/lib/python3.11/dist-packages/torch/_classes.py\", line 13, in __getattr__\n",
            "    proxy = torch._C._get_custom_class_python_wrapper(self.name, attr)\n",
            "            ^^^^^^^^^^^^^^^^^^^^^^^^^^^^^^^^^^^^^^^^^^^^^^^^^^^^^^^^^^\n",
            "RuntimeError: Tried to instantiate class '__path__._path', but it does not exist! Ensure that it is registered via torch::class_\n",
            "NLTK Punkt data checked/downloaded.\n",
            "Database 'chat_feedback.db' initialized successfully.\n",
            "2025-04-20 09:38:43.737 Examining the path of torch.classes raised:\n",
            "Traceback (most recent call last):\n",
            "  File \"/usr/local/lib/python3.11/dist-packages/streamlit/web/bootstrap.py\", line 347, in run\n",
            "    if asyncio.get_running_loop().is_running():\n",
            "       ^^^^^^^^^^^^^^^^^^^^^^^^^^\n",
            "RuntimeError: no running event loop\n",
            "\n",
            "During handling of the above exception, another exception occurred:\n",
            "\n",
            "Traceback (most recent call last):\n",
            "  File \"/usr/local/lib/python3.11/dist-packages/streamlit/watcher/local_sources_watcher.py\", line 217, in get_module_paths\n",
            "    potential_paths = extract_paths(module)\n",
            "                      ^^^^^^^^^^^^^^^^^^^^^\n",
            "  File \"/usr/local/lib/python3.11/dist-packages/streamlit/watcher/local_sources_watcher.py\", line 210, in <lambda>\n",
            "    lambda m: list(m.__path__._path),\n",
            "                   ^^^^^^^^^^^^^^^^\n",
            "  File \"/usr/local/lib/python3.11/dist-packages/torch/_classes.py\", line 13, in __getattr__\n",
            "    proxy = torch._C._get_custom_class_python_wrapper(self.name, attr)\n",
            "            ^^^^^^^^^^^^^^^^^^^^^^^^^^^^^^^^^^^^^^^^^^^^^^^^^^^^^^^^^^\n",
            "RuntimeError: Tried to instantiate class '__path__._path', but it does not exist! Ensure that it is registered via torch::class_\n",
            "NLTK Punkt data checked/downloaded.\n",
            "Database 'chat_feedback.db' initialized successfully.\n",
            "NLTK Punkt data checked/downloaded.\n",
            "Database 'chat_feedback.db' initialized successfully.\n",
            "NLTK loaded successfully.\n",
            "NLTK Punkt data checked/downloaded.\n",
            "Database 'chat_feedback.db' initialized successfully.\n"
          ]
        }
      ],
      "source": [
        "from pyngrok import ngrok\n",
        "\n",
        "public_url = ngrok.connect(8501).public_url\n",
        "print(f\"公開URL: {public_url}\")\n",
        "!streamlit run app.py"
      ]
    },
    {
      "cell_type": "markdown",
      "metadata": {
        "id": "S9FULM93e8PM"
      },
      "source": [
        "アプリケーションの機能としては、チャット機能や履歴閲覧があります。\n",
        "\n",
        "これらの機能を実現するためには、StreamlitによるUI部分だけではなく、SQLiteを使用したチャット履歴の保存やLLMのモデルを呼び出した推論などの処理を組み合わせることで実現しています。\n",
        "\n",
        "- **`app.py`**: アプリケーションのエントリーポイント。チャット機能、履歴閲覧、サンプルデータ管理のUIを提供します。\n",
        "- **`ui.py`**: チャットページや履歴閲覧ページなど、アプリケーションのUIロジックを管理します。\n",
        "- **`llm.py`**: LLMモデルのロードとテキスト生成を行うモジュール。\n",
        "- **`database.py`**: SQLiteデータベースを使用してチャット履歴やフィードバックを保存・管理します。\n",
        "- **`metrics.py`**: BLEUスコアやコサイン類似度など、回答の評価指標を計算するモジュール。\n",
        "- **`data.py`**: サンプルデータの作成やデータベースの初期化を行うモジュール。\n",
        "- **`config.py`**: アプリケーションの設定（モデル名やデータベースファイル名）を管理します。\n",
        "- **`requirements.txt`**: このアプリケーションを実行するために必要なPythonパッケージ。"
      ]
    },
    {
      "cell_type": "markdown",
      "metadata": {
        "id": "Xvm8sWFPELSP"
      },
      "source": [
        "後片付けとして、使う必要のないngrokのトンネルを削除します。"
      ]
    },
    {
      "cell_type": "code",
      "execution_count": 14,
      "metadata": {
        "id": "WFJC2TmZELSP"
      },
      "outputs": [],
      "source": [
        "from pyngrok import ngrok\n",
        "ngrok.kill()"
      ]
    },
    {
      "cell_type": "markdown",
      "metadata": {
        "id": "rUXhIzV7ELSP"
      },
      "source": [
        "# 03_FastAPI\n",
        "\n",
        "ディレクトリ「03_FastAPI」に移動します。"
      ]
    },
    {
      "cell_type": "code",
      "execution_count": null,
      "metadata": {
        "id": "4ejjDLxr3kfC"
      },
      "outputs": [],
      "source": [
        "%cd /content/lecture-ai-engineering/day1/03_FastAPI"
      ]
    },
    {
      "cell_type": "markdown",
      "metadata": {
        "id": "f45TDsNzELSQ"
      },
      "source": [
        "必要なライブラリをインストールします。"
      ]
    },
    {
      "cell_type": "code",
      "execution_count": null,
      "metadata": {
        "id": "9uv6glCz5a7Z"
      },
      "outputs": [],
      "source": [
        "%%capture\n",
        "!pip install -r requirements.txt"
      ]
    },
    {
      "cell_type": "markdown",
      "metadata": {
        "id": "JfrmE2VmELSQ"
      },
      "source": [
        "ngrokとhuggigfaceのトークンを使用して、認証を行います。"
      ]
    },
    {
      "cell_type": "code",
      "execution_count": null,
      "metadata": {
        "id": "ELzWhMFORRIO"
      },
      "outputs": [],
      "source": [
        "!ngrok authtoken $$NGROK_TOKEN\n",
        "!huggingface-cli login --token $$HUGGINGFACE_TOKEN"
      ]
    },
    {
      "cell_type": "markdown",
      "metadata": {
        "id": "t-wztc2CELSQ"
      },
      "source": [
        "アプリを起動します。\n",
        "\n",
        "「02_streamlit_app」から続けて「03_FastAPI」を実行している場合は、モデルのダウンロードが済んでいるため、すぐにサービスが立ち上がります。\n",
        "\n",
        "「03_FastAPI」のみを実行している場合は、初回の起動時にモデルのダウンロードが始まるので、モデルのダウンロードが終わるまで数分間待ちましょう。"
      ]
    },
    {
      "cell_type": "code",
      "execution_count": null,
      "metadata": {
        "id": "meQ4SwISn3IQ"
      },
      "outputs": [],
      "source": [
        "!python app.py"
      ]
    },
    {
      "cell_type": "markdown",
      "metadata": {
        "id": "RLubjIhbELSR"
      },
      "source": [
        "FastAPIが起動すると、APIとクライアントが通信するためのURL（エンドポイント）が作られます。\n",
        "\n",
        "URLが作られるのと合わせて、Swagger UIというWebインターフェースが作られます。\n",
        "\n",
        "Swagger UIにアクセスすることで、APIの仕様を確認できたり、APIをテストすることができます。\n",
        "\n",
        "Swagger UIを利用することで、APIを通してLLMを動かしてみましょう。"
      ]
    },
    {
      "cell_type": "markdown",
      "metadata": {
        "id": "XgumW3mGELSR"
      },
      "source": [
        "後片付けとして、使う必要のないngrokのトンネルを削除します。"
      ]
    },
    {
      "cell_type": "code",
      "execution_count": null,
      "metadata": {
        "id": "RJymTZio-WPJ"
      },
      "outputs": [],
      "source": [
        "from pyngrok import ngrok\n",
        "ngrok.kill()"
      ]
    }
  ],
  "metadata": {
    "colab": {
      "provenance": [],
      "gpuType": "T4"
    },
    "kernelspec": {
      "display_name": "Python 3",
      "name": "python3"
    },
    "language_info": {
      "name": "python"
    },
    "accelerator": "GPU"
  },
  "nbformat": 4,
  "nbformat_minor": 0
}